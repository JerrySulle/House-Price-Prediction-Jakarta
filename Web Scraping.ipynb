{
 "cells": [
  {
   "cell_type": "code",
   "execution_count": 52,
   "id": "a6cefb41",
   "metadata": {},
   "outputs": [],
   "source": [
    "from bs4 import BeautifulSoup"
   ]
  },
  {
   "cell_type": "code",
   "execution_count": 53,
   "id": "f1bb9dcc",
   "metadata": {},
   "outputs": [],
   "source": [
    "import requests"
   ]
  },
  {
   "cell_type": "markdown",
   "id": "fd236893",
   "metadata": {},
   "source": [
    "### Loc1"
   ]
  },
  {
   "cell_type": "code",
   "execution_count": 148,
   "id": "62ecbf9f",
   "metadata": {},
   "outputs": [
    {
     "name": "stderr",
     "output_type": "stream",
     "text": [
      "C:\\Users\\itosu\\AppData\\Local\\Temp\\ipykernel_31324\\867028188.py:12: DeprecationWarning: executable_path has been deprecated, please pass in a Service object\n",
      "  driver = webdriver.Chrome(chromedriver_path)\n"
     ]
    }
   ],
   "source": [
    "import time\n",
    "from bs4 import BeautifulSoup\n",
    "from selenium import webdriver\n",
    "from selenium.webdriver.chrome.options import Options\n",
    "\n",
    "url = \"https://www.rumah123.com/en/sale/jakarta-selatan/house/?page=10\"\n",
    "options = Options()\n",
    "options.add_argument('--headless')\n",
    "options.add_argument('--disable-gpu')\n",
    "\n",
    "chromedriver_path= \"C:\\\\Users\\\\itosu\\\\AppData\\\\Roaming\\\\Microsoft\\\\Windows\\\\Start Menu\\\\Programs\\\\Python 3.10\\\\chromedriver.exe\"\n",
    "driver = webdriver.Chrome(chromedriver_path)\n",
    "driver.get(url)\n",
    "time.sleep(3)\n",
    "\n",
    "page = driver.page_source\n",
    "driver.quit()\n",
    "soup = BeautifulSoup(page, 'html.parser')\n"
   ]
  },
  {
   "cell_type": "code",
   "execution_count": 168,
   "id": "67c773a7",
   "metadata": {},
   "outputs": [
    {
     "name": "stderr",
     "output_type": "stream",
     "text": [
      "C:\\Users\\itosu\\AppData\\Local\\Temp\\ipykernel_31324\\3109851902.py:13: DeprecationWarning: executable_path has been deprecated, please pass in a Service object\n",
      "  driver = webdriver.Chrome(chromedriver_path)\n"
     ]
    }
   ],
   "source": [
    "import time\n",
    "from bs4 import BeautifulSoup\n",
    "from selenium import webdriver\n",
    "from selenium.webdriver.chrome.options import Options\n",
    "\n",
    "for i in range(1,99):\n",
    "    url = \"https://www.rumah123.com/en/sale/dki-jakarta/all-residential//?page=\"+str(i)\n",
    "    options = Options()\n",
    "    options.add_argument('--headless')\n",
    "    options.add_argument('--disable-gpu')\n",
    "\n",
    "    chromedriver_path= \"C:\\\\Users\\\\itosu\\\\AppData\\\\Roaming\\\\Microsoft\\\\Windows\\\\Start Menu\\\\Programs\\\\Python 3.10\\\\chromedriver.exe\"\n",
    "    driver = webdriver.Chrome(chromedriver_path)\n",
    "    driver.get(url)\n",
    "    time.sleep(1)\n",
    "\n",
    "    page = driver.page_source\n",
    "    driver.quit()\n",
    "    soup = BeautifulSoup(page, 'html.parser')\n",
    "    \n",
    "    lists = soup.find_all('div', class_ = \"sc-hAZoDl gxFSEV\")\n",
    "    \n",
    "    import re\n",
    "    from csv import writer\n",
    "\n",
    "    with open('housing.csv', 'a', encoding='utf8', newline='') as f:\n",
    "        thewriter = writer(f)\n",
    "        for list in lists:\n",
    "            try:\n",
    "                Location = re.findall(\"Jakarta (.{5,7})\", list.find('p', class_ = \"ui-organisms-card-r123-featured__middle-section__address\").text.replace('\\n',''))[0]\n",
    "            except:\n",
    "                Location = None\n",
    "                \n",
    "            try:\n",
    "                if(re.split(\" \", re.split(\"Rp |Installment\",list.find('div', class_ = \"ui-organisms-card-r123-featured__middle-section__price\").text.replace('\\n',''))[1])[1] == 'Billion'):\n",
    "                    Price = float(re.split(\" \", re.split(\"Rp |Installment\",list.find('div', class_ = \"ui-organisms-card-r123-featured__middle-section__price\").text.replace('\\n',''))[1])[0].replace(',','.')) * 1000000000\n",
    "                else:\n",
    "                    Price = float(re.split(\" \", re.split(\"Rp |Installment\",list.find('div', class_ = \"ui-organisms-card-r123-featured__middle-section__price\").text.replace('\\n',''))[1])[0].replace(',','.')) * 100000000\n",
    "            except:\n",
    "                Price = None\n",
    "            \n",
    "            try:\n",
    "                BedBathSqM = list.find('div', class_ = \"ui-organisms-card-r123-featured__middle-section__attribute\").text.replace('\\n','')\n",
    "            except:\n",
    "                BedBathSqM = None\n",
    "              \n",
    "            try:\n",
    "                Bed = re.findall(\".\", BedBathSqM)[0]\n",
    "            except:\n",
    "                Bed = None\n",
    "                \n",
    "            try:\n",
    "                Bath = re.findall(\".\", BedBathSqM)[1]\n",
    "            except:\n",
    "                Bath = None\n",
    "                \n",
    "            try:\n",
    "                SqM = re.split(\"(.{2,3}) m²\", BedBathSqM)[1]\n",
    "            except:\n",
    "                SqM = None\n",
    "                \n",
    "            try:\n",
    "                Type = list.find('div', class_ = \"flex relative ui-atomic-badges ui-atomic-badges--rounded ui-atomic-badges--size-default\").text.replace('\\n','')\n",
    "            except:\n",
    "                Type = None\n",
    "            info = [Location, Bed, Bath, SqM, Type, Price]\n",
    "\n",
    "            thewriter.writerow(info)\n",
    "    f.close()\n"
   ]
  },
  {
   "cell_type": "code",
   "execution_count": null,
   "id": "1731933e",
   "metadata": {},
   "outputs": [],
   "source": []
  }
 ],
 "metadata": {
  "kernelspec": {
   "display_name": "Python 3 (ipykernel)",
   "language": "python",
   "name": "python3"
  },
  "language_info": {
   "codemirror_mode": {
    "name": "ipython",
    "version": 3
   },
   "file_extension": ".py",
   "mimetype": "text/x-python",
   "name": "python",
   "nbconvert_exporter": "python",
   "pygments_lexer": "ipython3",
   "version": "3.9.7"
  }
 },
 "nbformat": 4,
 "nbformat_minor": 5
}
